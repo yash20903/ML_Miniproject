{
 "cells": [
  {
   "cell_type": "code",
   "execution_count": 130,
   "metadata": {
    "id": "KWryXV6kC1WR"
   },
   "outputs": [],
   "source": [
    "## ML IE2\n",
    "## Yash Athawale 121B1B013\n",
    "## Aditya Agre 121B1B006\n",
    "## Vedant Bijwe 121B1B024\n",
    "## Dataset : https://github.com/adityaagre/Machine-Learning/blob/main/SOCIAL_MEDIA_FAKES.csv"
   ]
  },
  {
   "cell_type": "code",
   "execution_count": 131,
   "metadata": {
    "colab": {
     "base_uri": "https://localhost:8080/"
    },
    "id": "tpgeSlK-hHqa",
    "outputId": "894eb498-4917-4bee-cf50-9e3039d02ff4"
   },
   "outputs": [],
   "source": [
    "# Importing necessary libraries\n",
    "import pandas as pd\n",
    "from sklearn.model_selection import train_test_split\n",
    "from sklearn.preprocessing import StandardScaler\n",
    "from sklearn.neighbors import KNeighborsClassifier\n",
    "from sklearn.metrics import accuracy_score\n",
    "from sklearn.model_selection import cross_val_score, KFold\n",
    "import numpy as np\n",
    "from sklearn import svm\n",
    "\n",
    "# Load the dataset\n",
    "data = pd.read_csv(\"File1.csv\")"
   ]
  },
  {
   "cell_type": "code",
   "execution_count": 132,
   "metadata": {},
   "outputs": [
    {
     "data": {
      "text/html": [
       "<div>\n",
       "<style scoped>\n",
       "    .dataframe tbody tr th:only-of-type {\n",
       "        vertical-align: middle;\n",
       "    }\n",
       "\n",
       "    .dataframe tbody tr th {\n",
       "        vertical-align: top;\n",
       "    }\n",
       "\n",
       "    .dataframe thead th {\n",
       "        text-align: right;\n",
       "    }\n",
       "</style>\n",
       "<table border=\"1\" class=\"dataframe\">\n",
       "  <thead>\n",
       "    <tr style=\"text-align: right;\">\n",
       "      <th></th>\n",
       "      <th>userFollowerCount</th>\n",
       "      <th>userFollowingCount</th>\n",
       "      <th>userBiographyLength</th>\n",
       "      <th>userMediaCount</th>\n",
       "      <th>userHasProfilPic</th>\n",
       "      <th>userIsPrivate</th>\n",
       "      <th>usernameDigitCount</th>\n",
       "      <th>usernameLength</th>\n",
       "      <th>Isfake</th>\n",
       "    </tr>\n",
       "  </thead>\n",
       "  <tbody>\n",
       "    <tr>\n",
       "      <th>0</th>\n",
       "      <td>25</td>\n",
       "      <td>1937</td>\n",
       "      <td>0</td>\n",
       "      <td>0</td>\n",
       "      <td>1</td>\n",
       "      <td>1</td>\n",
       "      <td>0</td>\n",
       "      <td>10</td>\n",
       "      <td>Yes</td>\n",
       "    </tr>\n",
       "    <tr>\n",
       "      <th>1</th>\n",
       "      <td>324</td>\n",
       "      <td>4122</td>\n",
       "      <td>0</td>\n",
       "      <td>0</td>\n",
       "      <td>1</td>\n",
       "      <td>0</td>\n",
       "      <td>4</td>\n",
       "      <td>15</td>\n",
       "      <td>Yes</td>\n",
       "    </tr>\n",
       "    <tr>\n",
       "      <th>2</th>\n",
       "      <td>15</td>\n",
       "      <td>399</td>\n",
       "      <td>0</td>\n",
       "      <td>0</td>\n",
       "      <td>0</td>\n",
       "      <td>0</td>\n",
       "      <td>3</td>\n",
       "      <td>12</td>\n",
       "      <td>Yes</td>\n",
       "    </tr>\n",
       "    <tr>\n",
       "      <th>3</th>\n",
       "      <td>14</td>\n",
       "      <td>107</td>\n",
       "      <td>0</td>\n",
       "      <td>1</td>\n",
       "      <td>1</td>\n",
       "      <td>0</td>\n",
       "      <td>1</td>\n",
       "      <td>10</td>\n",
       "      <td>Yes</td>\n",
       "    </tr>\n",
       "    <tr>\n",
       "      <th>4</th>\n",
       "      <td>264</td>\n",
       "      <td>4651</td>\n",
       "      <td>0</td>\n",
       "      <td>0</td>\n",
       "      <td>1</td>\n",
       "      <td>0</td>\n",
       "      <td>0</td>\n",
       "      <td>14</td>\n",
       "      <td>Yes</td>\n",
       "    </tr>\n",
       "    <tr>\n",
       "      <th>...</th>\n",
       "      <td>...</td>\n",
       "      <td>...</td>\n",
       "      <td>...</td>\n",
       "      <td>...</td>\n",
       "      <td>...</td>\n",
       "      <td>...</td>\n",
       "      <td>...</td>\n",
       "      <td>...</td>\n",
       "      <td>...</td>\n",
       "    </tr>\n",
       "    <tr>\n",
       "      <th>1189</th>\n",
       "      <td>239</td>\n",
       "      <td>1134</td>\n",
       "      <td>145</td>\n",
       "      <td>9</td>\n",
       "      <td>1</td>\n",
       "      <td>0</td>\n",
       "      <td>0</td>\n",
       "      <td>19</td>\n",
       "      <td>No</td>\n",
       "    </tr>\n",
       "    <tr>\n",
       "      <th>1190</th>\n",
       "      <td>91</td>\n",
       "      <td>149</td>\n",
       "      <td>0</td>\n",
       "      <td>7</td>\n",
       "      <td>1</td>\n",
       "      <td>0</td>\n",
       "      <td>0</td>\n",
       "      <td>18</td>\n",
       "      <td>No</td>\n",
       "    </tr>\n",
       "    <tr>\n",
       "      <th>1191</th>\n",
       "      <td>78</td>\n",
       "      <td>783</td>\n",
       "      <td>28</td>\n",
       "      <td>1</td>\n",
       "      <td>1</td>\n",
       "      <td>0</td>\n",
       "      <td>0</td>\n",
       "      <td>11</td>\n",
       "      <td>No</td>\n",
       "    </tr>\n",
       "    <tr>\n",
       "      <th>1192</th>\n",
       "      <td>135</td>\n",
       "      <td>517</td>\n",
       "      <td>44</td>\n",
       "      <td>4</td>\n",
       "      <td>1</td>\n",
       "      <td>0</td>\n",
       "      <td>4</td>\n",
       "      <td>11</td>\n",
       "      <td>No</td>\n",
       "    </tr>\n",
       "    <tr>\n",
       "      <th>1193</th>\n",
       "      <td>203</td>\n",
       "      <td>823</td>\n",
       "      <td>71</td>\n",
       "      <td>4</td>\n",
       "      <td>1</td>\n",
       "      <td>0</td>\n",
       "      <td>0</td>\n",
       "      <td>12</td>\n",
       "      <td>No</td>\n",
       "    </tr>\n",
       "  </tbody>\n",
       "</table>\n",
       "<p>1194 rows × 9 columns</p>\n",
       "</div>"
      ],
      "text/plain": [
       "      userFollowerCount  userFollowingCount  userBiographyLength  \\\n",
       "0                    25                1937                    0   \n",
       "1                   324                4122                    0   \n",
       "2                    15                 399                    0   \n",
       "3                    14                 107                    0   \n",
       "4                   264                4651                    0   \n",
       "...                 ...                 ...                  ...   \n",
       "1189                239                1134                  145   \n",
       "1190                 91                 149                    0   \n",
       "1191                 78                 783                   28   \n",
       "1192                135                 517                   44   \n",
       "1193                203                 823                   71   \n",
       "\n",
       "      userMediaCount  userHasProfilPic  userIsPrivate  usernameDigitCount  \\\n",
       "0                  0                 1              1                   0   \n",
       "1                  0                 1              0                   4   \n",
       "2                  0                 0              0                   3   \n",
       "3                  1                 1              0                   1   \n",
       "4                  0                 1              0                   0   \n",
       "...              ...               ...            ...                 ...   \n",
       "1189               9                 1              0                   0   \n",
       "1190               7                 1              0                   0   \n",
       "1191               1                 1              0                   0   \n",
       "1192               4                 1              0                   4   \n",
       "1193               4                 1              0                   0   \n",
       "\n",
       "      usernameLength Isfake  \n",
       "0                 10    Yes  \n",
       "1                 15    Yes  \n",
       "2                 12    Yes  \n",
       "3                 10    Yes  \n",
       "4                 14    Yes  \n",
       "...              ...    ...  \n",
       "1189              19     No  \n",
       "1190              18     No  \n",
       "1191              11     No  \n",
       "1192              11     No  \n",
       "1193              12     No  \n",
       "\n",
       "[1194 rows x 9 columns]"
      ]
     },
     "execution_count": 132,
     "metadata": {},
     "output_type": "execute_result"
    }
   ],
   "source": [
    "data"
   ]
  },
  {
   "cell_type": "code",
   "execution_count": 133,
   "metadata": {},
   "outputs": [
    {
     "name": "stdout",
     "output_type": "stream",
     "text": [
      "userFollowerCount\n",
      "userFollowingCount\n",
      "userBiographyLength\n",
      "userMediaCount\n",
      "userHasProfilPic\n",
      "userIsPrivate\n",
      "usernameDigitCount\n",
      "usernameLength\n",
      "Isfake\n"
     ]
    }
   ],
   "source": [
    "## Examining Dataset\n",
    "\n",
    "for col in data.columns:\n",
    "    print(col)"
   ]
  },
  {
   "cell_type": "code",
   "execution_count": 134,
   "metadata": {},
   "outputs": [],
   "source": [
    "# NUmerical Columns:\n",
    "\n",
    "# userFollowerCount\n",
    "# userFollowingCount\n",
    "# userBiographyLength\n",
    "# userMediaCount\n",
    "# usernameDigitCount\n",
    "# usernameLength"
   ]
  },
  {
   "cell_type": "code",
   "execution_count": 135,
   "metadata": {},
   "outputs": [],
   "source": [
    "# Categorical Columns:\n",
    "\n",
    "# userHasProfilPic\n",
    "# userIsPrivate"
   ]
  },
  {
   "cell_type": "code",
   "execution_count": 136,
   "metadata": {},
   "outputs": [],
   "source": [
    "## which of these columns have null values\n",
    "\n",
    "no_of_col = data.shape[1]\n",
    "\n",
    "for i in range(no_of_col):\n",
    "    if(data[:i].isnull().values.any()):\n",
    "        print(\"Col \",i,\" has null values.\")"
   ]
  },
  {
   "cell_type": "code",
   "execution_count": 137,
   "metadata": {},
   "outputs": [
    {
     "data": {
      "text/plain": [
       "userFollowerCount      0\n",
       "userFollowingCount     0\n",
       "userBiographyLength    0\n",
       "userMediaCount         0\n",
       "userHasProfilPic       0\n",
       "userIsPrivate          0\n",
       "usernameDigitCount     0\n",
       "usernameLength         0\n",
       "Isfake                 0\n",
       "dtype: int64"
      ]
     },
     "execution_count": 137,
     "metadata": {},
     "output_type": "execute_result"
    }
   ],
   "source": [
    "## Checking number of null entries per column.\n",
    "data.isnull().sum()"
   ]
  },
  {
   "cell_type": "code",
   "execution_count": 138,
   "metadata": {},
   "outputs": [
    {
     "data": {
      "text/html": [
       "<div>\n",
       "<style scoped>\n",
       "    .dataframe tbody tr th:only-of-type {\n",
       "        vertical-align: middle;\n",
       "    }\n",
       "\n",
       "    .dataframe tbody tr th {\n",
       "        vertical-align: top;\n",
       "    }\n",
       "\n",
       "    .dataframe thead th {\n",
       "        text-align: right;\n",
       "    }\n",
       "</style>\n",
       "<table border=\"1\" class=\"dataframe\">\n",
       "  <thead>\n",
       "    <tr style=\"text-align: right;\">\n",
       "      <th></th>\n",
       "      <th>userFollowerCount</th>\n",
       "      <th>userFollowingCount</th>\n",
       "      <th>userBiographyLength</th>\n",
       "      <th>userMediaCount</th>\n",
       "      <th>userHasProfilPic</th>\n",
       "      <th>userIsPrivate</th>\n",
       "      <th>usernameDigitCount</th>\n",
       "      <th>usernameLength</th>\n",
       "      <th>Isfake</th>\n",
       "    </tr>\n",
       "  </thead>\n",
       "  <tbody>\n",
       "    <tr>\n",
       "      <th>272</th>\n",
       "      <td>413</td>\n",
       "      <td>677</td>\n",
       "      <td>0</td>\n",
       "      <td>38</td>\n",
       "      <td>1</td>\n",
       "      <td>1</td>\n",
       "      <td>0</td>\n",
       "      <td>15</td>\n",
       "      <td>No</td>\n",
       "    </tr>\n",
       "    <tr>\n",
       "      <th>635</th>\n",
       "      <td>338</td>\n",
       "      <td>330</td>\n",
       "      <td>41</td>\n",
       "      <td>17</td>\n",
       "      <td>1</td>\n",
       "      <td>0</td>\n",
       "      <td>0</td>\n",
       "      <td>12</td>\n",
       "      <td>No</td>\n",
       "    </tr>\n",
       "    <tr>\n",
       "      <th>636</th>\n",
       "      <td>225</td>\n",
       "      <td>446</td>\n",
       "      <td>0</td>\n",
       "      <td>53</td>\n",
       "      <td>1</td>\n",
       "      <td>0</td>\n",
       "      <td>0</td>\n",
       "      <td>11</td>\n",
       "      <td>No</td>\n",
       "    </tr>\n",
       "    <tr>\n",
       "      <th>637</th>\n",
       "      <td>449</td>\n",
       "      <td>410</td>\n",
       "      <td>19</td>\n",
       "      <td>19</td>\n",
       "      <td>1</td>\n",
       "      <td>1</td>\n",
       "      <td>0</td>\n",
       "      <td>8</td>\n",
       "      <td>No</td>\n",
       "    </tr>\n",
       "    <tr>\n",
       "      <th>638</th>\n",
       "      <td>594</td>\n",
       "      <td>863</td>\n",
       "      <td>105</td>\n",
       "      <td>276</td>\n",
       "      <td>1</td>\n",
       "      <td>1</td>\n",
       "      <td>0</td>\n",
       "      <td>9</td>\n",
       "      <td>No</td>\n",
       "    </tr>\n",
       "    <tr>\n",
       "      <th>639</th>\n",
       "      <td>679</td>\n",
       "      <td>764</td>\n",
       "      <td>23</td>\n",
       "      <td>39</td>\n",
       "      <td>1</td>\n",
       "      <td>1</td>\n",
       "      <td>0</td>\n",
       "      <td>11</td>\n",
       "      <td>No</td>\n",
       "    </tr>\n",
       "    <tr>\n",
       "      <th>640</th>\n",
       "      <td>569</td>\n",
       "      <td>539</td>\n",
       "      <td>41</td>\n",
       "      <td>95</td>\n",
       "      <td>1</td>\n",
       "      <td>1</td>\n",
       "      <td>0</td>\n",
       "      <td>11</td>\n",
       "      <td>No</td>\n",
       "    </tr>\n",
       "    <tr>\n",
       "      <th>641</th>\n",
       "      <td>540</td>\n",
       "      <td>543</td>\n",
       "      <td>0</td>\n",
       "      <td>73</td>\n",
       "      <td>1</td>\n",
       "      <td>1</td>\n",
       "      <td>0</td>\n",
       "      <td>12</td>\n",
       "      <td>No</td>\n",
       "    </tr>\n",
       "    <tr>\n",
       "      <th>642</th>\n",
       "      <td>441</td>\n",
       "      <td>368</td>\n",
       "      <td>25</td>\n",
       "      <td>30</td>\n",
       "      <td>1</td>\n",
       "      <td>1</td>\n",
       "      <td>0</td>\n",
       "      <td>8</td>\n",
       "      <td>No</td>\n",
       "    </tr>\n",
       "    <tr>\n",
       "      <th>643</th>\n",
       "      <td>570</td>\n",
       "      <td>455</td>\n",
       "      <td>37</td>\n",
       "      <td>120</td>\n",
       "      <td>1</td>\n",
       "      <td>1</td>\n",
       "      <td>0</td>\n",
       "      <td>10</td>\n",
       "      <td>No</td>\n",
       "    </tr>\n",
       "    <tr>\n",
       "      <th>645</th>\n",
       "      <td>634</td>\n",
       "      <td>648</td>\n",
       "      <td>59</td>\n",
       "      <td>21</td>\n",
       "      <td>1</td>\n",
       "      <td>0</td>\n",
       "      <td>0</td>\n",
       "      <td>9</td>\n",
       "      <td>No</td>\n",
       "    </tr>\n",
       "    <tr>\n",
       "      <th>646</th>\n",
       "      <td>687</td>\n",
       "      <td>539</td>\n",
       "      <td>18</td>\n",
       "      <td>78</td>\n",
       "      <td>1</td>\n",
       "      <td>0</td>\n",
       "      <td>0</td>\n",
       "      <td>9</td>\n",
       "      <td>No</td>\n",
       "    </tr>\n",
       "    <tr>\n",
       "      <th>657</th>\n",
       "      <td>426</td>\n",
       "      <td>486</td>\n",
       "      <td>60</td>\n",
       "      <td>110</td>\n",
       "      <td>1</td>\n",
       "      <td>0</td>\n",
       "      <td>0</td>\n",
       "      <td>12</td>\n",
       "      <td>No</td>\n",
       "    </tr>\n",
       "    <tr>\n",
       "      <th>658</th>\n",
       "      <td>207</td>\n",
       "      <td>201</td>\n",
       "      <td>131</td>\n",
       "      <td>75</td>\n",
       "      <td>1</td>\n",
       "      <td>1</td>\n",
       "      <td>2</td>\n",
       "      <td>12</td>\n",
       "      <td>No</td>\n",
       "    </tr>\n",
       "    <tr>\n",
       "      <th>662</th>\n",
       "      <td>414</td>\n",
       "      <td>440</td>\n",
       "      <td>14</td>\n",
       "      <td>71</td>\n",
       "      <td>1</td>\n",
       "      <td>0</td>\n",
       "      <td>0</td>\n",
       "      <td>9</td>\n",
       "      <td>No</td>\n",
       "    </tr>\n",
       "    <tr>\n",
       "      <th>674</th>\n",
       "      <td>207</td>\n",
       "      <td>196</td>\n",
       "      <td>0</td>\n",
       "      <td>7</td>\n",
       "      <td>1</td>\n",
       "      <td>1</td>\n",
       "      <td>0</td>\n",
       "      <td>11</td>\n",
       "      <td>No</td>\n",
       "    </tr>\n",
       "    <tr>\n",
       "      <th>696</th>\n",
       "      <td>386</td>\n",
       "      <td>482</td>\n",
       "      <td>32</td>\n",
       "      <td>48</td>\n",
       "      <td>1</td>\n",
       "      <td>1</td>\n",
       "      <td>0</td>\n",
       "      <td>7</td>\n",
       "      <td>No</td>\n",
       "    </tr>\n",
       "    <tr>\n",
       "      <th>701</th>\n",
       "      <td>156</td>\n",
       "      <td>199</td>\n",
       "      <td>42</td>\n",
       "      <td>2</td>\n",
       "      <td>1</td>\n",
       "      <td>0</td>\n",
       "      <td>0</td>\n",
       "      <td>11</td>\n",
       "      <td>No</td>\n",
       "    </tr>\n",
       "    <tr>\n",
       "      <th>721</th>\n",
       "      <td>202</td>\n",
       "      <td>201</td>\n",
       "      <td>0</td>\n",
       "      <td>21</td>\n",
       "      <td>1</td>\n",
       "      <td>1</td>\n",
       "      <td>0</td>\n",
       "      <td>9</td>\n",
       "      <td>No</td>\n",
       "    </tr>\n",
       "    <tr>\n",
       "      <th>750</th>\n",
       "      <td>218</td>\n",
       "      <td>255</td>\n",
       "      <td>0</td>\n",
       "      <td>2</td>\n",
       "      <td>1</td>\n",
       "      <td>1</td>\n",
       "      <td>0</td>\n",
       "      <td>9</td>\n",
       "      <td>No</td>\n",
       "    </tr>\n",
       "    <tr>\n",
       "      <th>758</th>\n",
       "      <td>369</td>\n",
       "      <td>396</td>\n",
       "      <td>0</td>\n",
       "      <td>5</td>\n",
       "      <td>1</td>\n",
       "      <td>1</td>\n",
       "      <td>0</td>\n",
       "      <td>12</td>\n",
       "      <td>No</td>\n",
       "    </tr>\n",
       "    <tr>\n",
       "      <th>774</th>\n",
       "      <td>462</td>\n",
       "      <td>682</td>\n",
       "      <td>0</td>\n",
       "      <td>94</td>\n",
       "      <td>1</td>\n",
       "      <td>1</td>\n",
       "      <td>0</td>\n",
       "      <td>10</td>\n",
       "      <td>No</td>\n",
       "    </tr>\n",
       "    <tr>\n",
       "      <th>805</th>\n",
       "      <td>372</td>\n",
       "      <td>362</td>\n",
       "      <td>36</td>\n",
       "      <td>13</td>\n",
       "      <td>1</td>\n",
       "      <td>1</td>\n",
       "      <td>0</td>\n",
       "      <td>7</td>\n",
       "      <td>No</td>\n",
       "    </tr>\n",
       "    <tr>\n",
       "      <th>888</th>\n",
       "      <td>208</td>\n",
       "      <td>571</td>\n",
       "      <td>0</td>\n",
       "      <td>11</td>\n",
       "      <td>1</td>\n",
       "      <td>0</td>\n",
       "      <td>0</td>\n",
       "      <td>8</td>\n",
       "      <td>No</td>\n",
       "    </tr>\n",
       "    <tr>\n",
       "      <th>1018</th>\n",
       "      <td>174</td>\n",
       "      <td>172</td>\n",
       "      <td>0</td>\n",
       "      <td>1</td>\n",
       "      <td>1</td>\n",
       "      <td>1</td>\n",
       "      <td>0</td>\n",
       "      <td>10</td>\n",
       "      <td>No</td>\n",
       "    </tr>\n",
       "    <tr>\n",
       "      <th>1049</th>\n",
       "      <td>406</td>\n",
       "      <td>478</td>\n",
       "      <td>0</td>\n",
       "      <td>76</td>\n",
       "      <td>1</td>\n",
       "      <td>1</td>\n",
       "      <td>0</td>\n",
       "      <td>12</td>\n",
       "      <td>No</td>\n",
       "    </tr>\n",
       "    <tr>\n",
       "      <th>1054</th>\n",
       "      <td>619</td>\n",
       "      <td>793</td>\n",
       "      <td>98</td>\n",
       "      <td>272</td>\n",
       "      <td>1</td>\n",
       "      <td>1</td>\n",
       "      <td>0</td>\n",
       "      <td>7</td>\n",
       "      <td>No</td>\n",
       "    </tr>\n",
       "    <tr>\n",
       "      <th>1073</th>\n",
       "      <td>257</td>\n",
       "      <td>291</td>\n",
       "      <td>139</td>\n",
       "      <td>19</td>\n",
       "      <td>1</td>\n",
       "      <td>1</td>\n",
       "      <td>2</td>\n",
       "      <td>10</td>\n",
       "      <td>No</td>\n",
       "    </tr>\n",
       "    <tr>\n",
       "      <th>1079</th>\n",
       "      <td>324</td>\n",
       "      <td>323</td>\n",
       "      <td>0</td>\n",
       "      <td>114</td>\n",
       "      <td>1</td>\n",
       "      <td>1</td>\n",
       "      <td>0</td>\n",
       "      <td>10</td>\n",
       "      <td>No</td>\n",
       "    </tr>\n",
       "  </tbody>\n",
       "</table>\n",
       "</div>"
      ],
      "text/plain": [
       "      userFollowerCount  userFollowingCount  userBiographyLength  \\\n",
       "272                 413                 677                    0   \n",
       "635                 338                 330                   41   \n",
       "636                 225                 446                    0   \n",
       "637                 449                 410                   19   \n",
       "638                 594                 863                  105   \n",
       "639                 679                 764                   23   \n",
       "640                 569                 539                   41   \n",
       "641                 540                 543                    0   \n",
       "642                 441                 368                   25   \n",
       "643                 570                 455                   37   \n",
       "645                 634                 648                   59   \n",
       "646                 687                 539                   18   \n",
       "657                 426                 486                   60   \n",
       "658                 207                 201                  131   \n",
       "662                 414                 440                   14   \n",
       "674                 207                 196                    0   \n",
       "696                 386                 482                   32   \n",
       "701                 156                 199                   42   \n",
       "721                 202                 201                    0   \n",
       "750                 218                 255                    0   \n",
       "758                 369                 396                    0   \n",
       "774                 462                 682                    0   \n",
       "805                 372                 362                   36   \n",
       "888                 208                 571                    0   \n",
       "1018                174                 172                    0   \n",
       "1049                406                 478                    0   \n",
       "1054                619                 793                   98   \n",
       "1073                257                 291                  139   \n",
       "1079                324                 323                    0   \n",
       "\n",
       "      userMediaCount  userHasProfilPic  userIsPrivate  usernameDigitCount  \\\n",
       "272               38                 1              1                   0   \n",
       "635               17                 1              0                   0   \n",
       "636               53                 1              0                   0   \n",
       "637               19                 1              1                   0   \n",
       "638              276                 1              1                   0   \n",
       "639               39                 1              1                   0   \n",
       "640               95                 1              1                   0   \n",
       "641               73                 1              1                   0   \n",
       "642               30                 1              1                   0   \n",
       "643              120                 1              1                   0   \n",
       "645               21                 1              0                   0   \n",
       "646               78                 1              0                   0   \n",
       "657              110                 1              0                   0   \n",
       "658               75                 1              1                   2   \n",
       "662               71                 1              0                   0   \n",
       "674                7                 1              1                   0   \n",
       "696               48                 1              1                   0   \n",
       "701                2                 1              0                   0   \n",
       "721               21                 1              1                   0   \n",
       "750                2                 1              1                   0   \n",
       "758                5                 1              1                   0   \n",
       "774               94                 1              1                   0   \n",
       "805               13                 1              1                   0   \n",
       "888               11                 1              0                   0   \n",
       "1018               1                 1              1                   0   \n",
       "1049              76                 1              1                   0   \n",
       "1054             272                 1              1                   0   \n",
       "1073              19                 1              1                   2   \n",
       "1079             114                 1              1                   0   \n",
       "\n",
       "      usernameLength Isfake  \n",
       "272               15     No  \n",
       "635               12     No  \n",
       "636               11     No  \n",
       "637                8     No  \n",
       "638                9     No  \n",
       "639               11     No  \n",
       "640               11     No  \n",
       "641               12     No  \n",
       "642                8     No  \n",
       "643               10     No  \n",
       "645                9     No  \n",
       "646                9     No  \n",
       "657               12     No  \n",
       "658               12     No  \n",
       "662                9     No  \n",
       "674               11     No  \n",
       "696                7     No  \n",
       "701               11     No  \n",
       "721                9     No  \n",
       "750                9     No  \n",
       "758               12     No  \n",
       "774               10     No  \n",
       "805                7     No  \n",
       "888                8     No  \n",
       "1018              10     No  \n",
       "1049              12     No  \n",
       "1054               7     No  \n",
       "1073              10     No  \n",
       "1079              10     No  "
      ]
     },
     "execution_count": 138,
     "metadata": {},
     "output_type": "execute_result"
    }
   ],
   "source": [
    "## Duplicates\n",
    "\n",
    "# We currently have 9919 rows\n",
    "# Lets look at the duplicate rows now\n",
    "data[data.duplicated(keep='first')]"
   ]
  },
  {
   "cell_type": "code",
   "execution_count": 139,
   "metadata": {},
   "outputs": [
    {
     "data": {
      "text/html": [
       "<div>\n",
       "<style scoped>\n",
       "    .dataframe tbody tr th:only-of-type {\n",
       "        vertical-align: middle;\n",
       "    }\n",
       "\n",
       "    .dataframe tbody tr th {\n",
       "        vertical-align: top;\n",
       "    }\n",
       "\n",
       "    .dataframe thead th {\n",
       "        text-align: right;\n",
       "    }\n",
       "</style>\n",
       "<table border=\"1\" class=\"dataframe\">\n",
       "  <thead>\n",
       "    <tr style=\"text-align: right;\">\n",
       "      <th></th>\n",
       "      <th>userFollowerCount</th>\n",
       "      <th>userFollowingCount</th>\n",
       "      <th>userBiographyLength</th>\n",
       "      <th>userMediaCount</th>\n",
       "      <th>userHasProfilPic</th>\n",
       "      <th>userIsPrivate</th>\n",
       "      <th>usernameDigitCount</th>\n",
       "      <th>usernameLength</th>\n",
       "      <th>Isfake</th>\n",
       "    </tr>\n",
       "  </thead>\n",
       "  <tbody>\n",
       "    <tr>\n",
       "      <th>0</th>\n",
       "      <td>25</td>\n",
       "      <td>1937</td>\n",
       "      <td>0</td>\n",
       "      <td>0</td>\n",
       "      <td>1</td>\n",
       "      <td>1</td>\n",
       "      <td>0</td>\n",
       "      <td>10</td>\n",
       "      <td>Yes</td>\n",
       "    </tr>\n",
       "    <tr>\n",
       "      <th>1</th>\n",
       "      <td>324</td>\n",
       "      <td>4122</td>\n",
       "      <td>0</td>\n",
       "      <td>0</td>\n",
       "      <td>1</td>\n",
       "      <td>0</td>\n",
       "      <td>4</td>\n",
       "      <td>15</td>\n",
       "      <td>Yes</td>\n",
       "    </tr>\n",
       "    <tr>\n",
       "      <th>2</th>\n",
       "      <td>15</td>\n",
       "      <td>399</td>\n",
       "      <td>0</td>\n",
       "      <td>0</td>\n",
       "      <td>0</td>\n",
       "      <td>0</td>\n",
       "      <td>3</td>\n",
       "      <td>12</td>\n",
       "      <td>Yes</td>\n",
       "    </tr>\n",
       "    <tr>\n",
       "      <th>3</th>\n",
       "      <td>14</td>\n",
       "      <td>107</td>\n",
       "      <td>0</td>\n",
       "      <td>1</td>\n",
       "      <td>1</td>\n",
       "      <td>0</td>\n",
       "      <td>1</td>\n",
       "      <td>10</td>\n",
       "      <td>Yes</td>\n",
       "    </tr>\n",
       "    <tr>\n",
       "      <th>4</th>\n",
       "      <td>264</td>\n",
       "      <td>4651</td>\n",
       "      <td>0</td>\n",
       "      <td>0</td>\n",
       "      <td>1</td>\n",
       "      <td>0</td>\n",
       "      <td>0</td>\n",
       "      <td>14</td>\n",
       "      <td>Yes</td>\n",
       "    </tr>\n",
       "    <tr>\n",
       "      <th>...</th>\n",
       "      <td>...</td>\n",
       "      <td>...</td>\n",
       "      <td>...</td>\n",
       "      <td>...</td>\n",
       "      <td>...</td>\n",
       "      <td>...</td>\n",
       "      <td>...</td>\n",
       "      <td>...</td>\n",
       "      <td>...</td>\n",
       "    </tr>\n",
       "    <tr>\n",
       "      <th>1189</th>\n",
       "      <td>239</td>\n",
       "      <td>1134</td>\n",
       "      <td>145</td>\n",
       "      <td>9</td>\n",
       "      <td>1</td>\n",
       "      <td>0</td>\n",
       "      <td>0</td>\n",
       "      <td>19</td>\n",
       "      <td>No</td>\n",
       "    </tr>\n",
       "    <tr>\n",
       "      <th>1190</th>\n",
       "      <td>91</td>\n",
       "      <td>149</td>\n",
       "      <td>0</td>\n",
       "      <td>7</td>\n",
       "      <td>1</td>\n",
       "      <td>0</td>\n",
       "      <td>0</td>\n",
       "      <td>18</td>\n",
       "      <td>No</td>\n",
       "    </tr>\n",
       "    <tr>\n",
       "      <th>1191</th>\n",
       "      <td>78</td>\n",
       "      <td>783</td>\n",
       "      <td>28</td>\n",
       "      <td>1</td>\n",
       "      <td>1</td>\n",
       "      <td>0</td>\n",
       "      <td>0</td>\n",
       "      <td>11</td>\n",
       "      <td>No</td>\n",
       "    </tr>\n",
       "    <tr>\n",
       "      <th>1192</th>\n",
       "      <td>135</td>\n",
       "      <td>517</td>\n",
       "      <td>44</td>\n",
       "      <td>4</td>\n",
       "      <td>1</td>\n",
       "      <td>0</td>\n",
       "      <td>4</td>\n",
       "      <td>11</td>\n",
       "      <td>No</td>\n",
       "    </tr>\n",
       "    <tr>\n",
       "      <th>1193</th>\n",
       "      <td>203</td>\n",
       "      <td>823</td>\n",
       "      <td>71</td>\n",
       "      <td>4</td>\n",
       "      <td>1</td>\n",
       "      <td>0</td>\n",
       "      <td>0</td>\n",
       "      <td>12</td>\n",
       "      <td>No</td>\n",
       "    </tr>\n",
       "  </tbody>\n",
       "</table>\n",
       "<p>1165 rows × 9 columns</p>\n",
       "</div>"
      ],
      "text/plain": [
       "      userFollowerCount  userFollowingCount  userBiographyLength  \\\n",
       "0                    25                1937                    0   \n",
       "1                   324                4122                    0   \n",
       "2                    15                 399                    0   \n",
       "3                    14                 107                    0   \n",
       "4                   264                4651                    0   \n",
       "...                 ...                 ...                  ...   \n",
       "1189                239                1134                  145   \n",
       "1190                 91                 149                    0   \n",
       "1191                 78                 783                   28   \n",
       "1192                135                 517                   44   \n",
       "1193                203                 823                   71   \n",
       "\n",
       "      userMediaCount  userHasProfilPic  userIsPrivate  usernameDigitCount  \\\n",
       "0                  0                 1              1                   0   \n",
       "1                  0                 1              0                   4   \n",
       "2                  0                 0              0                   3   \n",
       "3                  1                 1              0                   1   \n",
       "4                  0                 1              0                   0   \n",
       "...              ...               ...            ...                 ...   \n",
       "1189               9                 1              0                   0   \n",
       "1190               7                 1              0                   0   \n",
       "1191               1                 1              0                   0   \n",
       "1192               4                 1              0                   4   \n",
       "1193               4                 1              0                   0   \n",
       "\n",
       "      usernameLength Isfake  \n",
       "0                 10    Yes  \n",
       "1                 15    Yes  \n",
       "2                 12    Yes  \n",
       "3                 10    Yes  \n",
       "4                 14    Yes  \n",
       "...              ...    ...  \n",
       "1189              19     No  \n",
       "1190              18     No  \n",
       "1191              11     No  \n",
       "1192              11     No  \n",
       "1193              12     No  \n",
       "\n",
       "[1165 rows x 9 columns]"
      ]
     },
     "execution_count": 139,
     "metadata": {},
     "output_type": "execute_result"
    }
   ],
   "source": [
    "# Removing these rows\n",
    "data.drop_duplicates(keep='first', inplace=True)\n",
    "data"
   ]
  },
  {
   "cell_type": "code",
   "execution_count": 140,
   "metadata": {},
   "outputs": [],
   "source": [
    "## 29 duplicates removed"
   ]
  },
  {
   "cell_type": "code",
   "execution_count": 141,
   "metadata": {},
   "outputs": [
    {
     "data": {
      "text/plain": [
       "<Axes: >"
      ]
     },
     "execution_count": 141,
     "metadata": {},
     "output_type": "execute_result"
    }
   ],
   "source": [
    "data.boxplot()"
   ]
  },
  {
   "cell_type": "code",
   "execution_count": 142,
   "metadata": {},
   "outputs": [],
   "source": [
    "## We are shuffling rows because cross validation score function does not do this by itself.\n",
    "data = data.sample(frac = 1)"
   ]
  },
  {
   "cell_type": "code",
   "execution_count": 143,
   "metadata": {},
   "outputs": [],
   "source": [
    "# Separate features and target variable\n",
    "\n",
    "# Drop the 'isFake' column and rename 'Isfake' to 'target'\n",
    "#data.drop(columns=['isFake'], inplace=True)\n",
    "#data.rename(columns={'Isfake': 'target'})\n",
    "\n",
    "\n",
    "y = data['Isfake']\n",
    "X = data.drop(columns=['Isfake'])\n"
   ]
  },
  {
   "cell_type": "code",
   "execution_count": 144,
   "metadata": {},
   "outputs": [],
   "source": [
    "## Cross Validation\n",
    "num_folds = 5\n",
    "kf = KFold(n_splits=num_folds, shuffle=True, random_state=42)"
   ]
  },
  {
   "cell_type": "code",
   "execution_count": 145,
   "metadata": {},
   "outputs": [],
   "source": [
    "# Standardize the features\n",
    "scaler = StandardScaler()\n",
    "X_scaled = scaler.fit_transform(X)"
   ]
  },
  {
   "cell_type": "code",
   "execution_count": null,
   "metadata": {},
   "outputs": [],
   "source": []
  },
  {
   "cell_type": "code",
   "execution_count": 146,
   "metadata": {},
   "outputs": [],
   "source": [
    "## 1. KNN Model"
   ]
  },
  {
   "cell_type": "code",
   "execution_count": 147,
   "metadata": {},
   "outputs": [
    {
     "name": "stdout",
     "output_type": "stream",
     "text": [
      "Accuracy after considering  1  neighbours:  [0.90128755 0.90128755 0.93133047 0.88412017 0.93991416] 0.9115879828326181\n",
      "Accuracy after considering  3  neighbours:  [0.92274678 0.91416309 0.93562232 0.91845494 0.94849785] 0.9278969957081544\n",
      "Accuracy after considering  5  neighbours:  [0.91845494 0.91416309 0.93133047 0.92274678 0.9527897 ] 0.9278969957081544\n",
      "Accuracy after considering  7  neighbours:  [0.91845494 0.92703863 0.92274678 0.92703863 0.96137339] 0.9313304721030043\n",
      "Accuracy after considering  9  neighbours:  [0.91845494 0.91416309 0.90987124 0.92703863 0.93991416] 0.9218884120171674\n",
      "Accuracy after considering  11  neighbours:  [0.91416309 0.92274678 0.9055794  0.92703863 0.93562232] 0.9210300429184549\n",
      "Accuracy after considering  13  neighbours:  [0.91845494 0.94420601 0.90128755 0.92274678 0.93133047] 0.9236051502145923\n",
      "Accuracy after considering  15  neighbours:  [0.91416309 0.94849785 0.90128755 0.91845494 0.93133047] 0.9227467811158798\n",
      "Accuracy after considering  17  neighbours:  [0.91845494 0.93991416 0.90128755 0.91416309 0.93133047] 0.9210300429184549\n",
      "Accuracy after considering  19  neighbours:  [0.90987124 0.94420601 0.90128755 0.92274678 0.93562232] 0.9227467811158798\n",
      "Accuracy after considering  21  neighbours:  [0.90128755 0.94420601 0.9055794  0.92274678 0.93562232] 0.9218884120171673\n",
      "Accuracy after considering  23  neighbours:  [0.90128755 0.93562232 0.9055794  0.92703863 0.93562232] 0.9210300429184549\n"
     ]
    }
   ],
   "source": [
    "## Finding the best k value using elbow method\n",
    "k_list = []\n",
    "acc_list = []\n",
    "for i in range(1, 25, 2):\n",
    "\n",
    "  # Making the KNN model\n",
    "  k = i  # Number of neighbors\n",
    "  knn_model = KNeighborsClassifier(n_neighbors=k)\n",
    "  score = cross_val_score(knn_model, X_scaled, y, cv=5)\n",
    "\n",
    "  k_list.append(k)\n",
    "  acc_list.append(score)\n",
    "  print(\"Accuracy after considering \", k, \" neighbours: \", score, np.average(score))"
   ]
  },
  {
   "cell_type": "code",
   "execution_count": 148,
   "metadata": {},
   "outputs": [
    {
     "name": "stdout",
     "output_type": "stream",
     "text": [
      "[1, 3, 5, 7, 9, 11, 13, 15, 17, 19, 21, 23]\n",
      "[0.90128755 0.90128755 0.93133047 0.88412017 0.93991416]\n",
      "[0.92274678 0.91416309 0.93562232 0.91845494 0.94849785]\n",
      "[0.91845494 0.91416309 0.93133047 0.92274678 0.9527897 ]\n",
      "[0.91845494 0.92703863 0.92274678 0.92703863 0.96137339]\n",
      "[0.91845494 0.91416309 0.90987124 0.92703863 0.93991416]\n",
      "[0.91416309 0.92274678 0.9055794  0.92703863 0.93562232]\n",
      "[0.91845494 0.94420601 0.90128755 0.92274678 0.93133047]\n",
      "[0.91416309 0.94849785 0.90128755 0.91845494 0.93133047]\n",
      "[0.91845494 0.93991416 0.90128755 0.91416309 0.93133047]\n",
      "[0.90987124 0.94420601 0.90128755 0.92274678 0.93562232]\n",
      "[0.90128755 0.94420601 0.9055794  0.92274678 0.93562232]\n",
      "[0.90128755 0.93562232 0.9055794  0.92703863 0.93562232]\n"
     ]
    }
   ],
   "source": [
    "print(k_list)\n",
    "for i in acc_list:\n",
    "    print(i)"
   ]
  },
  {
   "cell_type": "code",
   "execution_count": 149,
   "metadata": {
    "id": "QQfDgyfG9uNH"
   },
   "outputs": [],
   "source": [
    "## Finding average accuracy across cross validation folds"
   ]
  },
  {
   "cell_type": "code",
   "execution_count": 150,
   "metadata": {},
   "outputs": [
    {
     "name": "stdout",
     "output_type": "stream",
     "text": [
      "[0.90128755 0.90128755 0.93133047 0.88412017 0.93991416]\n",
      "[0.92274678 0.91416309 0.93562232 0.91845494 0.94849785]\n",
      "[0.91845494 0.91416309 0.93133047 0.92274678 0.9527897 ]\n",
      "[0.91845494 0.92703863 0.92274678 0.92703863 0.96137339]\n",
      "[0.91845494 0.91416309 0.90987124 0.92703863 0.93991416]\n",
      "[0.91416309 0.92274678 0.9055794  0.92703863 0.93562232]\n",
      "[0.91845494 0.94420601 0.90128755 0.92274678 0.93133047]\n",
      "[0.91416309 0.94849785 0.90128755 0.91845494 0.93133047]\n",
      "[0.91845494 0.93991416 0.90128755 0.91416309 0.93133047]\n",
      "[0.90987124 0.94420601 0.90128755 0.92274678 0.93562232]\n",
      "[0.90128755 0.94420601 0.9055794  0.92274678 0.93562232]\n",
      "[0.90128755 0.93562232 0.9055794  0.92703863 0.93562232]\n"
     ]
    }
   ],
   "source": [
    "for i in acc_list:\n",
    "    print(i)"
   ]
  },
  {
   "cell_type": "code",
   "execution_count": 151,
   "metadata": {
    "colab": {
     "base_uri": "https://localhost:8080/",
     "height": 430
    },
    "id": "l2YuKtdj5Nq_",
    "outputId": "8ecfe102-9488-48c5-87a8-1efde1eb5a66"
   },
   "outputs": [],
   "source": [
    "import matplotlib.pyplot as plt\n",
    "import numpy as np"
   ]
  },
  {
   "cell_type": "code",
   "execution_count": 188,
   "metadata": {},
   "outputs": [
    {
     "data": {
      "image/png": "[encoded data removed]",
      "text/plain": [
       "<Figure size 640x480 with 1 Axes>"
      ]
     },
     "metadata": {},
     "output_type": "display_data"
    }
   ],
   "source": [
    "xpoints = np.array(k_list)\n",
    "ypoints = np.array(acc_list)\n",
    "\n",
    "plt.plot(xpoints, ypoints)\n",
    "plt.show()"
   ]
  },
  {
   "cell_type": "code",
   "execution_count": 189,
   "metadata": {
    "colab": {
     "base_uri": "https://localhost:8080/",
     "height": 430
    },
    "id": "IinLw0bP-V9F",
    "outputId": "fa74371d-9a44-413b-a89e-cc911e1e08fe"
   },
   "outputs": [
    {
     "data": {
      "image/png": "[encoded data removed]",
      "text/plain": [
       "<Figure size 640x480 with 1 Axes>"
      ]
     },
     "metadata": {},
     "output_type": "display_data"
    }
   ],
   "source": [
    "xpoints = np.array(k_list)\n",
    "ypoints = np.array([np.average(i) for i in acc_list])\n",
    "plt.plot(xpoints, ypoints)\n",
    "plt.show()"
   ]
  },
  {
   "cell_type": "code",
   "execution_count": 154,
   "metadata": {
    "colab": {
     "base_uri": "https://localhost:8080/"
    },
    "id": "fawrjAUj_DNn",
    "outputId": "2076266b-0ba2-4237-b524-2c18fc1b1edb"
   },
   "outputs": [
    {
     "name": "stdout",
     "output_type": "stream",
     "text": [
      "[ 1  3  5  7  9 11 13 15 17 19 21 23]\n",
      "[0.91158798 0.927897   0.927897   0.93133047 0.92188841 0.92103004\n",
      " 0.92360515 0.92274678 0.92103004 0.92274678 0.92188841 0.92103004]\n"
     ]
    }
   ],
   "source": [
    "print(xpoints)\n",
    "print(ypoints)"
   ]
  },
  {
   "cell_type": "code",
   "execution_count": 155,
   "metadata": {},
   "outputs": [
    {
     "name": "stdout",
     "output_type": "stream",
     "text": [
      "[0.92274678 0.91416309 0.93562232 0.91845494 0.94849785]\n"
     ]
    }
   ],
   "source": [
    "## Best accuracy at k = 3\n",
    "knn_model = KNeighborsClassifier(n_neighbors=3)\n",
    "score_knn_k = cross_val_score(knn_model, X_scaled, y, cv=5)\n",
    "print(score_knn_k)"
   ]
  },
  {
   "cell_type": "code",
   "execution_count": 156,
   "metadata": {},
   "outputs": [
    {
     "name": "stdout",
     "output_type": "stream",
     "text": [
      "0.9278969957081544\n"
     ]
    }
   ],
   "source": [
    "knn_avg_acc = np.average(score_knn_k)\n",
    "print(knn_avg_acc)"
   ]
  },
  {
   "cell_type": "code",
   "execution_count": 157,
   "metadata": {},
   "outputs": [
    {
     "data": {
      "text/html": [
       "<style>#sk-container-id-7 {color: black;}#sk-container-id-7 pre{padding: 0;}#sk-container-id-7 div.sk-toggleable {background-color: white;}#sk-container-id-7 label.sk-toggleable__label {cursor: pointer;display: block;width: 100%;margin-bottom: 0;padding: 0.3em;box-sizing: border-box;text-align: center;}#sk-container-id-7 label.sk-toggleable__label-arrow:before {content: \"▸\";float: left;margin-right: 0.25em;color: #696969;}#sk-container-id-7 label.sk-toggleable__label-arrow:hover:before {color: black;}#sk-container-id-7 div.sk-estimator:hover label.sk-toggleable__label-arrow:before {color: black;}#sk-container-id-7 div.sk-toggleable__content {max-height: 0;max-width: 0;overflow: hidden;text-align: left;background-color: #f0f8ff;}#sk-container-id-7 div.sk-toggleable__content pre {margin: 0.2em;color: black;border-radius: 0.25em;background-color: #f0f8ff;}#sk-container-id-7 input.sk-toggleable__control:checked~div.sk-toggleable__content {max-height: 200px;max-width: 100%;overflow: auto;}#sk-container-id-7 input.sk-toggleable__control:checked~label.sk-toggleable__label-arrow:before {content: \"▾\";}#sk-container-id-7 div.sk-estimator input.sk-toggleable__control:checked~label.sk-toggleable__label {background-color: #d4ebff;}#sk-container-id-7 div.sk-label input.sk-toggleable__control:checked~label.sk-toggleable__label {background-color: #d4ebff;}#sk-container-id-7 input.sk-hidden--visually {border: 0;clip: rect(1px 1px 1px 1px);clip: rect(1px, 1px, 1px, 1px);height: 1px;margin: -1px;overflow: hidden;padding: 0;position: absolute;width: 1px;}#sk-container-id-7 div.sk-estimator {font-family: monospace;background-color: #f0f8ff;border: 1px dotted black;border-radius: 0.25em;box-sizing: border-box;margin-bottom: 0.5em;}#sk-container-id-7 div.sk-estimator:hover {background-color: #d4ebff;}#sk-container-id-7 div.sk-parallel-item::after {content: \"\";width: 100%;border-bottom: 1px solid gray;flex-grow: 1;}#sk-container-id-7 div.sk-label:hover label.sk-toggleable__label {background-color: #d4ebff;}#sk-container-id-7 div.sk-serial::before {content: \"\";position: absolute;border-left: 1px solid gray;box-sizing: border-box;top: 0;bottom: 0;left: 50%;z-index: 0;}#sk-container-id-7 div.sk-serial {display: flex;flex-direction: column;align-items: center;background-color: white;padding-right: 0.2em;padding-left: 0.2em;position: relative;}#sk-container-id-7 div.sk-item {position: relative;z-index: 1;}#sk-container-id-7 div.sk-parallel {display: flex;align-items: stretch;justify-content: center;background-color: white;position: relative;}#sk-container-id-7 div.sk-item::before, #sk-container-id-7 div.sk-parallel-item::before {content: \"\";position: absolute;border-left: 1px solid gray;box-sizing: border-box;top: 0;bottom: 0;left: 50%;z-index: -1;}#sk-container-id-7 div.sk-parallel-item {display: flex;flex-direction: column;z-index: 1;position: relative;background-color: white;}#sk-container-id-7 div.sk-parallel-item:first-child::after {align-self: flex-end;width: 50%;}#sk-container-id-7 div.sk-parallel-item:last-child::after {align-self: flex-start;width: 50%;}#sk-container-id-7 div.sk-parallel-item:only-child::after {width: 0;}#sk-container-id-7 div.sk-dashed-wrapped {border: 1px dashed gray;margin: 0 0.4em 0.5em 0.4em;box-sizing: border-box;padding-bottom: 0.4em;background-color: white;}#sk-container-id-7 div.sk-label label {font-family: monospace;font-weight: bold;display: inline-block;line-height: 1.2em;}#sk-container-id-7 div.sk-label-container {text-align: center;}#sk-container-id-7 div.sk-container {/* jupyter's `normalize.less` sets `[hidden] { display: none; }` but bootstrap.min.css set `[hidden] { display: none !important; }` so we also need the `!important` here to be able to override the default hidden behavior on the sphinx rendered scikit-learn.org. See: https://github.com/scikit-learn/scikit-learn/issues/21755 */display: inline-block !important;position: relative;}#sk-container-id-7 div.sk-text-repr-fallback {display: none;}</style><div id=\"sk-container-id-7\" class=\"sk-top-container\"><div class=\"sk-text-repr-fallback\"><pre>KNeighborsClassifier(n_neighbors=3)</pre><b>In a Jupyter environment, please rerun this cell to show the HTML representation or trust the notebook. <br />On GitHub, the HTML representation is unable to render, please try loading this page with nbviewer.org.</b></div><div class=\"sk-container\" hidden><div class=\"sk-item\"><div class=\"sk-estimator sk-toggleable\"><input class=\"sk-toggleable__control sk-hidden--visually\" id=\"sk-estimator-id-7\" type=\"checkbox\" checked><label for=\"sk-estimator-id-7\" class=\"sk-toggleable__label sk-toggleable__label-arrow\">KNeighborsClassifier</label><div class=\"sk-toggleable__content\"><pre>KNeighborsClassifier(n_neighbors=3)</pre></div></div></div></div></div>"
      ],
      "text/plain": [
       "KNeighborsClassifier(n_neighbors=3)"
      ]
     },
     "execution_count": 157,
     "metadata": {},
     "output_type": "execute_result"
    }
   ],
   "source": [
    "knn_model.fit(X_scaled, y)"
   ]
  },
  {
   "cell_type": "code",
   "execution_count": 158,
   "metadata": {},
   "outputs": [
    {
     "data": {
      "text/plain": [
       "array(['Yes'], dtype=object)"
      ]
     },
     "execution_count": 158,
     "metadata": {},
     "output_type": "execute_result"
    }
   ],
   "source": [
    "knn_model.predict(np.array([[25, 1937, 0, 0, 1, 1, 0, 10]]))"
   ]
  },
  {
   "cell_type": "code",
   "execution_count": 159,
   "metadata": {},
   "outputs": [
    {
     "name": "stdout",
     "output_type": "stream",
     "text": [
      "Accuracy after considering  1  neighbours:  [0.90128755 0.90128755 0.93133047 0.88412017 0.93991416] 0.9115879828326181\n",
      "Accuracy after considering  3  neighbours:  [0.92703863 0.91416309 0.93133047 0.90987124 0.9527897 ] 0.9270386266094421\n",
      "Accuracy after considering  5  neighbours:  [0.91845494 0.91416309 0.93133047 0.91845494 0.94849785] 0.9261802575107296\n",
      "Accuracy after considering  7  neighbours:  [0.91416309 0.91416309 0.92703863 0.92274678 0.9527897 ] 0.9261802575107296\n",
      "Accuracy after considering  9  neighbours:  [0.91845494 0.91416309 0.92703863 0.92703863 0.94849785] 0.9270386266094421\n",
      "Accuracy after considering  11  neighbours:  [0.91416309 0.92274678 0.91416309 0.92274678 0.94420601] 0.9236051502145923\n",
      "Accuracy after considering  13  neighbours:  [0.91416309 0.93133047 0.91416309 0.92274678 0.93991416] 0.9244635193133048\n",
      "Accuracy after considering  15  neighbours:  [0.91416309 0.93133047 0.90987124 0.91845494 0.93991416] 0.9227467811158798\n",
      "Accuracy after considering  17  neighbours:  [0.91845494 0.93562232 0.90128755 0.91845494 0.93991416] 0.9227467811158798\n",
      "Accuracy after considering  19  neighbours:  [0.91416309 0.93133047 0.90128755 0.92274678 0.94420601] 0.9227467811158799\n",
      "Accuracy after considering  21  neighbours:  [0.90987124 0.93133047 0.9055794  0.93133047 0.94420601] 0.9244635193133046\n",
      "Accuracy after considering  23  neighbours:  [0.9055794  0.93133047 0.9055794  0.93133047 0.93991416] 0.9227467811158798\n"
     ]
    }
   ],
   "source": [
    "k_list_weighted = []\n",
    "acc_list_weighted = []\n",
    "\n",
    "for i in range(1, 25, 2):\n",
    "\n",
    "  # Making the KNN model\n",
    "  k = i  # Number of neighbors\n",
    "  knn_model_weighted = KNeighborsClassifier(n_neighbors=k, weights = 'distance')\n",
    "  score_weighted = cross_val_score(knn_model_weighted, X_scaled, y, cv=5)\n",
    "\n",
    "  k_list_weighted.append(k)\n",
    "  acc_list_weighted.append(score_weighted)\n",
    "  print(\"Accuracy after considering \", k, \" neighbours: \", score_weighted, np.average(score_weighted))"
   ]
  },
  {
   "cell_type": "code",
   "execution_count": 160,
   "metadata": {},
   "outputs": [
    {
     "name": "stdout",
     "output_type": "stream",
     "text": [
      "[1, 3, 5, 7, 9, 11, 13, 15, 17, 19, 21, 23]\n",
      "[0.90128755 0.90128755 0.93133047 0.88412017 0.93991416]\n",
      "[0.92703863 0.91416309 0.93133047 0.90987124 0.9527897 ]\n",
      "[0.91845494 0.91416309 0.93133047 0.91845494 0.94849785]\n",
      "[0.91416309 0.91416309 0.92703863 0.92274678 0.9527897 ]\n",
      "[0.91845494 0.91416309 0.92703863 0.92703863 0.94849785]\n",
      "[0.91416309 0.92274678 0.91416309 0.92274678 0.94420601]\n",
      "[0.91416309 0.93133047 0.91416309 0.92274678 0.93991416]\n",
      "[0.91416309 0.93133047 0.90987124 0.91845494 0.93991416]\n",
      "[0.91845494 0.93562232 0.90128755 0.91845494 0.93991416]\n",
      "[0.91416309 0.93133047 0.90128755 0.92274678 0.94420601]\n",
      "[0.90987124 0.93133047 0.9055794  0.93133047 0.94420601]\n",
      "[0.9055794  0.93133047 0.9055794  0.93133047 0.93991416]\n"
     ]
    }
   ],
   "source": [
    "print(k_list_weighted)\n",
    "for i in acc_list_weighted:\n",
    "    print(i)"
   ]
  },
  {
   "cell_type": "code",
   "execution_count": 161,
   "metadata": {},
   "outputs": [
    {
     "data": {
      "image/png": "[encoded data removed]",
      "text/plain": [
       "<Figure size 640x480 with 1 Axes>"
      ]
     },
     "metadata": {},
     "output_type": "display_data"
    }
   ],
   "source": [
    "xpoints = np.array(k_list_weighted)\n",
    "ypoints = np.array(acc_list_weighted)\n",
    "\n",
    "plt.plot(xpoints, ypoints)\n",
    "plt.show()"
   ]
  },
  {
   "cell_type": "code",
   "execution_count": 162,
   "metadata": {},
   "outputs": [
    {
     "data": {
      "image/png": "[encoded data removed]",
      "text/plain": [
       "<Figure size 640x480 with 1 Axes>"
      ]
     },
     "metadata": {},
     "output_type": "display_data"
    }
   ],
   "source": [
    "## Average accuracy for each value of k across cross validations\n",
    "xpoints = np.array(k_list_weighted)\n",
    "averaged_list_per_k_weighted = [np.average(i) for i in acc_list_weighted]\n",
    "ypoints = np.array(averaged_list_per_k_weighted)\n",
    "\n",
    "plt.plot(xpoints, ypoints)\n",
    "plt.show()"
   ]
  },
  {
   "cell_type": "code",
   "execution_count": 163,
   "metadata": {},
   "outputs": [
    {
     "name": "stdout",
     "output_type": "stream",
     "text": [
      "[1, 3, 5, 7, 9, 11, 13, 15, 17, 19, 21, 23]\n",
      "[0.9115879828326181, 0.9270386266094421, 0.9261802575107296, 0.9261802575107296, 0.9270386266094421, 0.9236051502145923, 0.9244635193133048, 0.9227467811158798, 0.9227467811158798, 0.9227467811158799, 0.9244635193133046, 0.9227467811158798]\n"
     ]
    }
   ],
   "source": [
    "print(k_list_weighted)\n",
    "print(averaged_list_per_k_weighted)"
   ]
  },
  {
   "cell_type": "code",
   "execution_count": 164,
   "metadata": {},
   "outputs": [
    {
     "name": "stdout",
     "output_type": "stream",
     "text": [
      "[0.92274678 0.91416309 0.93562232 0.91845494 0.94849785]\n"
     ]
    }
   ],
   "source": [
    "## Best accuracy at k = 5\n",
    "knn_model_weighted = KNeighborsClassifier(n_neighbors=5, weights = 'distance')\n",
    "score_knn_k_weighted = cross_val_score(knn_model, X_scaled, y, cv=5)\n",
    "print(score_knn_k_weighted)"
   ]
  },
  {
   "cell_type": "code",
   "execution_count": 165,
   "metadata": {},
   "outputs": [
    {
     "name": "stdout",
     "output_type": "stream",
     "text": [
      "92.78969957081544\n"
     ]
    }
   ],
   "source": [
    "knn_weighted_avg_acc = np.average(score_knn_k_weighted)\n",
    "print(knn_weighted_avg_acc*100)"
   ]
  },
  {
   "cell_type": "code",
   "execution_count": 166,
   "metadata": {
    "scrolled": true
   },
   "outputs": [
    {
     "data": {
      "text/html": [
       "<style>#sk-container-id-8 {color: black;}#sk-container-id-8 pre{padding: 0;}#sk-container-id-8 div.sk-toggleable {background-color: white;}#sk-container-id-8 label.sk-toggleable__label {cursor: pointer;display: block;width: 100%;margin-bottom: 0;padding: 0.3em;box-sizing: border-box;text-align: center;}#sk-container-id-8 label.sk-toggleable__label-arrow:before {content: \"▸\";float: left;margin-right: 0.25em;color: #696969;}#sk-container-id-8 label.sk-toggleable__label-arrow:hover:before {color: black;}#sk-container-id-8 div.sk-estimator:hover label.sk-toggleable__label-arrow:before {color: black;}#sk-container-id-8 div.sk-toggleable__content {max-height: 0;max-width: 0;overflow: hidden;text-align: left;background-color: #f0f8ff;}#sk-container-id-8 div.sk-toggleable__content pre {margin: 0.2em;color: black;border-radius: 0.25em;background-color: #f0f8ff;}#sk-container-id-8 input.sk-toggleable__control:checked~div.sk-toggleable__content {max-height: 200px;max-width: 100%;overflow: auto;}#sk-container-id-8 input.sk-toggleable__control:checked~label.sk-toggleable__label-arrow:before {content: \"▾\";}#sk-container-id-8 div.sk-estimator input.sk-toggleable__control:checked~label.sk-toggleable__label {background-color: #d4ebff;}#sk-container-id-8 div.sk-label input.sk-toggleable__control:checked~label.sk-toggleable__label {background-color: #d4ebff;}#sk-container-id-8 input.sk-hidden--visually {border: 0;clip: rect(1px 1px 1px 1px);clip: rect(1px, 1px, 1px, 1px);height: 1px;margin: -1px;overflow: hidden;padding: 0;position: absolute;width: 1px;}#sk-container-id-8 div.sk-estimator {font-family: monospace;background-color: #f0f8ff;border: 1px dotted black;border-radius: 0.25em;box-sizing: border-box;margin-bottom: 0.5em;}#sk-container-id-8 div.sk-estimator:hover {background-color: #d4ebff;}#sk-container-id-8 div.sk-parallel-item::after {content: \"\";width: 100%;border-bottom: 1px solid gray;flex-grow: 1;}#sk-container-id-8 div.sk-label:hover label.sk-toggleable__label {background-color: #d4ebff;}#sk-container-id-8 div.sk-serial::before {content: \"\";position: absolute;border-left: 1px solid gray;box-sizing: border-box;top: 0;bottom: 0;left: 50%;z-index: 0;}#sk-container-id-8 div.sk-serial {display: flex;flex-direction: column;align-items: center;background-color: white;padding-right: 0.2em;padding-left: 0.2em;position: relative;}#sk-container-id-8 div.sk-item {position: relative;z-index: 1;}#sk-container-id-8 div.sk-parallel {display: flex;align-items: stretch;justify-content: center;background-color: white;position: relative;}#sk-container-id-8 div.sk-item::before, #sk-container-id-8 div.sk-parallel-item::before {content: \"\";position: absolute;border-left: 1px solid gray;box-sizing: border-box;top: 0;bottom: 0;left: 50%;z-index: -1;}#sk-container-id-8 div.sk-parallel-item {display: flex;flex-direction: column;z-index: 1;position: relative;background-color: white;}#sk-container-id-8 div.sk-parallel-item:first-child::after {align-self: flex-end;width: 50%;}#sk-container-id-8 div.sk-parallel-item:last-child::after {align-self: flex-start;width: 50%;}#sk-container-id-8 div.sk-parallel-item:only-child::after {width: 0;}#sk-container-id-8 div.sk-dashed-wrapped {border: 1px dashed gray;margin: 0 0.4em 0.5em 0.4em;box-sizing: border-box;padding-bottom: 0.4em;background-color: white;}#sk-container-id-8 div.sk-label label {font-family: monospace;font-weight: bold;display: inline-block;line-height: 1.2em;}#sk-container-id-8 div.sk-label-container {text-align: center;}#sk-container-id-8 div.sk-container {/* jupyter's `normalize.less` sets `[hidden] { display: none; }` but bootstrap.min.css set `[hidden] { display: none !important; }` so we also need the `!important` here to be able to override the default hidden behavior on the sphinx rendered scikit-learn.org. See: https://github.com/scikit-learn/scikit-learn/issues/21755 */display: inline-block !important;position: relative;}#sk-container-id-8 div.sk-text-repr-fallback {display: none;}</style><div id=\"sk-container-id-8\" class=\"sk-top-container\"><div class=\"sk-text-repr-fallback\"><pre>KNeighborsClassifier(weights=&#x27;distance&#x27;)</pre><b>In a Jupyter environment, please rerun this cell to show the HTML representation or trust the notebook. <br />On GitHub, the HTML representation is unable to render, please try loading this page with nbviewer.org.</b></div><div class=\"sk-container\" hidden><div class=\"sk-item\"><div class=\"sk-estimator sk-toggleable\"><input class=\"sk-toggleable__control sk-hidden--visually\" id=\"sk-estimator-id-8\" type=\"checkbox\" checked><label for=\"sk-estimator-id-8\" class=\"sk-toggleable__label sk-toggleable__label-arrow\">KNeighborsClassifier</label><div class=\"sk-toggleable__content\"><pre>KNeighborsClassifier(weights=&#x27;distance&#x27;)</pre></div></div></div></div></div>"
      ],
      "text/plain": [
       "KNeighborsClassifier(weights='distance')"
      ]
     },
     "execution_count": 166,
     "metadata": {},
     "output_type": "execute_result"
    }
   ],
   "source": [
    "knn_model_weighted.fit(X_scaled, y)"
   ]
  },
  {
   "cell_type": "code",
   "execution_count": 167,
   "metadata": {},
   "outputs": [
    {
     "data": {
      "text/plain": [
       "array(['Yes'], dtype=object)"
      ]
     },
     "execution_count": 167,
     "metadata": {},
     "output_type": "execute_result"
    }
   ],
   "source": [
    "knn_model_weighted.predict(np.array([[25, 1937, 0, 0, 1, 1, 0, 10]]))"
   ]
  },
  {
   "cell_type": "code",
   "execution_count": 168,
   "metadata": {
    "id": "1dK5GBgr62GW"
   },
   "outputs": [],
   "source": [
    "## Therefore best performance is shown by using 3 neighbours."
   ]
  },
  {
   "cell_type": "code",
   "execution_count": 169,
   "metadata": {},
   "outputs": [
    {
     "name": "stdout",
     "output_type": "stream",
     "text": [
      "92.1030042918455\n"
     ]
    }
   ],
   "source": [
    "\n",
    "print(np.average(score)*100)"
   ]
  },
  {
   "cell_type": "code",
   "execution_count": 170,
   "metadata": {
    "colab": {
     "base_uri": "https://localhost:8080/"
    },
    "id": "_qlavPI73uYZ",
    "outputId": "e98eb1d2-87c2-4bdb-f1a4-b515dfb7075a"
   },
   "outputs": [
    {
     "name": "stdout",
     "output_type": "stream",
     "text": [
      "[0.92274678 0.95708155 0.92703863 0.94420601 0.96137339]\n"
     ]
    }
   ],
   "source": [
    "## Using Logistic regression\n",
    "\n",
    "# import the necessary libraries\n",
    "from sklearn.linear_model import LogisticRegression\n",
    "from sklearn.metrics import accuracy_score\n",
    "\n",
    "# LogisticRegression\n",
    "LR_object = LogisticRegression(random_state=42)\n",
    "scores = cross_val_score(LR_object, X_scaled, y, cv=5)\n",
    "print(scores)"
   ]
  },
  {
   "cell_type": "code",
   "execution_count": 171,
   "metadata": {},
   "outputs": [
    {
     "data": {
      "image/png": "[encoded data removed]",
      "text/plain": [
       "<Figure size 640x480 with 1 Axes>"
      ]
     },
     "metadata": {},
     "output_type": "display_data"
    }
   ],
   "source": [
    "xpoints = np.array([1,2,3,4,5])\n",
    "averaged_list_per_k_weighted = scores\n",
    "ypoints = np.array(averaged_list_per_k_weighted)\n",
    "\n",
    "plt.plot(xpoints, ypoints)\n",
    "plt.show()"
   ]
  },
  {
   "cell_type": "code",
   "execution_count": 172,
   "metadata": {},
   "outputs": [
    {
     "name": "stdout",
     "output_type": "stream",
     "text": [
      "Logistic Regression model accuracy (in %): 0.9210300429184549\n"
     ]
    }
   ],
   "source": [
    "LR_average_acc = np.average(score)\n",
    "print(\"Logistic Regression model accuracy (in %):\", LR_average_acc)"
   ]
  },
  {
   "cell_type": "code",
   "execution_count": 173,
   "metadata": {},
   "outputs": [
    {
     "data": {
      "text/html": [
       "<style>#sk-container-id-9 {color: black;}#sk-container-id-9 pre{padding: 0;}#sk-container-id-9 div.sk-toggleable {background-color: white;}#sk-container-id-9 label.sk-toggleable__label {cursor: pointer;display: block;width: 100%;margin-bottom: 0;padding: 0.3em;box-sizing: border-box;text-align: center;}#sk-container-id-9 label.sk-toggleable__label-arrow:before {content: \"▸\";float: left;margin-right: 0.25em;color: #696969;}#sk-container-id-9 label.sk-toggleable__label-arrow:hover:before {color: black;}#sk-container-id-9 div.sk-estimator:hover label.sk-toggleable__label-arrow:before {color: black;}#sk-container-id-9 div.sk-toggleable__content {max-height: 0;max-width: 0;overflow: hidden;text-align: left;background-color: #f0f8ff;}#sk-container-id-9 div.sk-toggleable__content pre {margin: 0.2em;color: black;border-radius: 0.25em;background-color: #f0f8ff;}#sk-container-id-9 input.sk-toggleable__control:checked~div.sk-toggleable__content {max-height: 200px;max-width: 100%;overflow: auto;}#sk-container-id-9 input.sk-toggleable__control:checked~label.sk-toggleable__label-arrow:before {content: \"▾\";}#sk-container-id-9 div.sk-estimator input.sk-toggleable__control:checked~label.sk-toggleable__label {background-color: #d4ebff;}#sk-container-id-9 div.sk-label input.sk-toggleable__control:checked~label.sk-toggleable__label {background-color: #d4ebff;}#sk-container-id-9 input.sk-hidden--visually {border: 0;clip: rect(1px 1px 1px 1px);clip: rect(1px, 1px, 1px, 1px);height: 1px;margin: -1px;overflow: hidden;padding: 0;position: absolute;width: 1px;}#sk-container-id-9 div.sk-estimator {font-family: monospace;background-color: #f0f8ff;border: 1px dotted black;border-radius: 0.25em;box-sizing: border-box;margin-bottom: 0.5em;}#sk-container-id-9 div.sk-estimator:hover {background-color: #d4ebff;}#sk-container-id-9 div.sk-parallel-item::after {content: \"\";width: 100%;border-bottom: 1px solid gray;flex-grow: 1;}#sk-container-id-9 div.sk-label:hover label.sk-toggleable__label {background-color: #d4ebff;}#sk-container-id-9 div.sk-serial::before {content: \"\";position: absolute;border-left: 1px solid gray;box-sizing: border-box;top: 0;bottom: 0;left: 50%;z-index: 0;}#sk-container-id-9 div.sk-serial {display: flex;flex-direction: column;align-items: center;background-color: white;padding-right: 0.2em;padding-left: 0.2em;position: relative;}#sk-container-id-9 div.sk-item {position: relative;z-index: 1;}#sk-container-id-9 div.sk-parallel {display: flex;align-items: stretch;justify-content: center;background-color: white;position: relative;}#sk-container-id-9 div.sk-item::before, #sk-container-id-9 div.sk-parallel-item::before {content: \"\";position: absolute;border-left: 1px solid gray;box-sizing: border-box;top: 0;bottom: 0;left: 50%;z-index: -1;}#sk-container-id-9 div.sk-parallel-item {display: flex;flex-direction: column;z-index: 1;position: relative;background-color: white;}#sk-container-id-9 div.sk-parallel-item:first-child::after {align-self: flex-end;width: 50%;}#sk-container-id-9 div.sk-parallel-item:last-child::after {align-self: flex-start;width: 50%;}#sk-container-id-9 div.sk-parallel-item:only-child::after {width: 0;}#sk-container-id-9 div.sk-dashed-wrapped {border: 1px dashed gray;margin: 0 0.4em 0.5em 0.4em;box-sizing: border-box;padding-bottom: 0.4em;background-color: white;}#sk-container-id-9 div.sk-label label {font-family: monospace;font-weight: bold;display: inline-block;line-height: 1.2em;}#sk-container-id-9 div.sk-label-container {text-align: center;}#sk-container-id-9 div.sk-container {/* jupyter's `normalize.less` sets `[hidden] { display: none; }` but bootstrap.min.css set `[hidden] { display: none !important; }` so we also need the `!important` here to be able to override the default hidden behavior on the sphinx rendered scikit-learn.org. See: https://github.com/scikit-learn/scikit-learn/issues/21755 */display: inline-block !important;position: relative;}#sk-container-id-9 div.sk-text-repr-fallback {display: none;}</style><div id=\"sk-container-id-9\" class=\"sk-top-container\"><div class=\"sk-text-repr-fallback\"><pre>LogisticRegression(random_state=42)</pre><b>In a Jupyter environment, please rerun this cell to show the HTML representation or trust the notebook. <br />On GitHub, the HTML representation is unable to render, please try loading this page with nbviewer.org.</b></div><div class=\"sk-container\" hidden><div class=\"sk-item\"><div class=\"sk-estimator sk-toggleable\"><input class=\"sk-toggleable__control sk-hidden--visually\" id=\"sk-estimator-id-9\" type=\"checkbox\" checked><label for=\"sk-estimator-id-9\" class=\"sk-toggleable__label sk-toggleable__label-arrow\">LogisticRegression</label><div class=\"sk-toggleable__content\"><pre>LogisticRegression(random_state=42)</pre></div></div></div></div></div>"
      ],
      "text/plain": [
       "LogisticRegression(random_state=42)"
      ]
     },
     "execution_count": 173,
     "metadata": {},
     "output_type": "execute_result"
    }
   ],
   "source": [
    "LR_object.fit(X_scaled, y)"
   ]
  },
  {
   "cell_type": "code",
   "execution_count": 174,
   "metadata": {},
   "outputs": [
    {
     "data": {
      "text/plain": [
       "array(['Yes'], dtype=object)"
      ]
     },
     "execution_count": 174,
     "metadata": {},
     "output_type": "execute_result"
    }
   ],
   "source": [
    "LR_object.predict(np.array([[25, 1937, 0, 0, 1, 1, 0, 10]]))"
   ]
  },
  {
   "cell_type": "code",
   "execution_count": null,
   "metadata": {},
   "outputs": [],
   "source": []
  },
  {
   "cell_type": "code",
   "execution_count": 175,
   "metadata": {},
   "outputs": [],
   "source": [
    "## SVM"
   ]
  },
  {
   "cell_type": "code",
   "execution_count": 176,
   "metadata": {},
   "outputs": [
    {
     "data": {
      "text/plain": [
       "array([0.93133047, 0.96137339, 0.93991416, 0.94420601, 0.96566524])"
      ]
     },
     "execution_count": 176,
     "metadata": {},
     "output_type": "execute_result"
    }
   ],
   "source": [
    "svm_object = svm.SVC(kernel='linear', C=1, random_state=42)\n",
    "scores_svm = cross_val_score(svm_object, X_scaled, y, cv=5)\n",
    "scores_svm"
   ]
  },
  {
   "cell_type": "code",
   "execution_count": 177,
   "metadata": {},
   "outputs": [
    {
     "data": {
      "image/png": "[encoded data removed]",
      "text/plain": [
       "<Figure size 640x480 with 1 Axes>"
      ]
     },
     "metadata": {},
     "output_type": "display_data"
    }
   ],
   "source": [
    "xpoints = np.array([1,2,3,4,5])\n",
    "averaged_list_per_k_weighted = scores_svm\n",
    "ypoints = np.array(averaged_list_per_k_weighted)\n",
    "\n",
    "plt.plot(xpoints, ypoints)\n",
    "plt.show()"
   ]
  },
  {
   "cell_type": "code",
   "execution_count": 178,
   "metadata": {},
   "outputs": [
    {
     "name": "stdout",
     "output_type": "stream",
     "text": [
      "SVM model accuracy (in %): 94.84978540772534\n"
     ]
    }
   ],
   "source": [
    "svm_avg_acc = np.average(scores_svm)\n",
    "print(\"SVM model accuracy (in %):\", svm_avg_acc*100)"
   ]
  },
  {
   "cell_type": "code",
   "execution_count": 179,
   "metadata": {},
   "outputs": [
    {
     "data": {
      "text/plain": [
       "array(['Yes'], dtype=object)"
      ]
     },
     "execution_count": 179,
     "metadata": {},
     "output_type": "execute_result"
    }
   ],
   "source": [
    "svm_object.fit(X_scaled, y)\n",
    "svm_object.predict(np.array([[25, 1937, 0, 0, 1, 1, 0, 10]]))"
   ]
  },
  {
   "cell_type": "code",
   "execution_count": null,
   "metadata": {},
   "outputs": [],
   "source": []
  },
  {
   "cell_type": "code",
   "execution_count": 180,
   "metadata": {},
   "outputs": [],
   "source": [
    "## Random Forest"
   ]
  },
  {
   "cell_type": "code",
   "execution_count": 181,
   "metadata": {},
   "outputs": [
    {
     "name": "stdout",
     "output_type": "stream",
     "text": [
      "[0.97854077 0.96995708 0.96566524 0.96137339 0.93991416]\n"
     ]
    }
   ],
   "source": [
    "from sklearn.ensemble import RandomForestClassifier\n",
    "\n",
    "RF_object = RandomForestClassifier(random_state=42)\n",
    "scores_RF = cross_val_score(RF_object, X_scaled, y, cv=5)\n",
    "print(scores_RF)"
   ]
  },
  {
   "cell_type": "code",
   "execution_count": 182,
   "metadata": {},
   "outputs": [
    {
     "data": {
      "image/png": "[encoded data removed]",
      "text/plain": [
       "<Figure size 640x480 with 1 Axes>"
      ]
     },
     "metadata": {},
     "output_type": "display_data"
    }
   ],
   "source": [
    "xpoints = np.array([1,2,3,4,5])\n",
    "averaged_list_per_k_weighted = scores_RF\n",
    "ypoints = np.array(averaged_list_per_k_weighted)\n",
    "\n",
    "plt.plot(xpoints, ypoints)\n",
    "plt.show()"
   ]
  },
  {
   "cell_type": "code",
   "execution_count": 183,
   "metadata": {},
   "outputs": [
    {
     "name": "stdout",
     "output_type": "stream",
     "text": [
      "Random Forest model sccuracy is:  96.30901287553648\n"
     ]
    }
   ],
   "source": [
    "rf_avg_acc = np.average(scores_RF)\n",
    "print(\"Random Forest model sccuracy is: \", rf_avg_acc*100)"
   ]
  },
  {
   "cell_type": "code",
   "execution_count": null,
   "metadata": {},
   "outputs": [],
   "source": []
  },
  {
   "cell_type": "code",
   "execution_count": 184,
   "metadata": {},
   "outputs": [
    {
     "name": "stdout",
     "output_type": "stream",
     "text": [
      "Following are the accuracies found across various models. \n",
      "All accuracies have been calculated after 5 fold cross validation.\n",
      "\n",
      "KNN accuracy:  0.9278969957081544\n",
      "Weighted KNN accuracy:  0.9278969957081544\n",
      "Logistoc Regression accuracy:  0.9210300429184549\n",
      "SVM accuracy:  0.9484978540772533\n",
      "Random Forest accuracy:  0.9630901287553648\n"
     ]
    }
   ],
   "source": [
    "## Comparison:\n",
    "print(\"Following are the accuracies found across various models. \\nAll accuracies have been calculated after 5 fold cross validation.\\n\")\n",
    "print(\"KNN accuracy: \", knn_avg_acc)\n",
    "print(\"Weighted KNN accuracy: \", knn_weighted_avg_acc)\n",
    "print(\"Logistoc Regression accuracy: \", LR_average_acc)\n",
    "print(\"SVM accuracy: \", svm_avg_acc)\n",
    "print(\"Random Forest accuracy: \", rf_avg_acc)"
   ]
  },
  {
   "cell_type": "code",
   "execution_count": 185,
   "metadata": {},
   "outputs": [
    {
     "name": "stdout",
     "output_type": "stream",
     "text": [
      "            Model  Accuracies\n",
      "0           KNN-3   92.789700\n",
      "1  Weighted-KNN-5   92.789700\n",
      "2  Logistic Regr.   92.103004\n",
      "3             SVM   94.849785\n",
      "4   Random Forest   96.309013\n"
     ]
    }
   ],
   "source": [
    "results = {\n",
    "    'Model' : ['KNN-3', 'Weighted-KNN-5', 'Logistic Regr.', 'SVM', 'Random Forest'],\n",
    "    'Accuracies' : [knn_avg_acc*100, knn_weighted_avg_acc*100, LR_average_acc*100, svm_avg_acc*100, rf_avg_acc*100]\n",
    "}\n",
    "\n",
    "results_df = pd.DataFrame(results)\n",
    "print(results_df)"
   ]
  },
  {
   "cell_type": "code",
   "execution_count": 186,
   "metadata": {},
   "outputs": [
    {
     "data": {
      "image/png": "[encoded data removed]",
      "text/plain": [
       "<Figure size 640x480 with 1 Axes>"
      ]
     },
     "metadata": {},
     "output_type": "display_data"
    }
   ],
   "source": [
    "xpoints = results_df['Model']\n",
    "ypoints = results_df['Accuracies']\n",
    "\n",
    "plt.plot(xpoints, ypoints)\n",
    "plt.show()"
   ]
  },
  {
   "cell_type": "code",
   "execution_count": null,
   "metadata": {},
   "outputs": [],
   "source": []
  }
 ],
 "metadata": {
  "colab": {
   "provenance": []
  },
  "kernelspec": {
   "display_name": "Python 3 (ipykernel)",
   "language": "python",
   "name": "python3"
  },
  "language_info": {
   "codemirror_mode": {
    "name": "ipython",
    "version": 3
   },
   "file_extension": ".py",
   "mimetype": "text/x-python",
   "name": "python",
   "nbconvert_exporter": "python",
   "pygments_lexer": "ipython3",
   "version": "3.11.5"
  }
 },
 "nbformat": 4,
 "nbformat_minor": 1
}
